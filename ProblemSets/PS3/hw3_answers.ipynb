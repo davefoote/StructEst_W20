{
 "cells": [
  {
   "cell_type": "code",
   "execution_count": 130,
   "metadata": {},
   "outputs": [
    {
     "name": "stdout",
     "output_type": "stream",
     "text": [
      "The autoreload extension is already loaded. To reload it, use:\n",
      "  %reload_ext autoreload\n"
     ]
    }
   ],
   "source": [
    "import numpy as np\n",
    "import pandas as pd\n",
    "import dfoote_struct_est_lib as dstruct\n",
    "import matplotlib.pyplot as plt\n",
    "%matplotlib inline\n",
    "import numpy.linalg as lin\n",
    "import scipy.stats as sts\n",
    "import scipy.integrate as intgr\n",
    "import scipy.optimize as opt\n",
    "import matplotlib\n",
    "from mpl_toolkits.mplot3d import Axes3D\n",
    "from matplotlib import cm\n",
    "%load_ext autoreload\n",
    "%autoreload 2"
   ]
  },
  {
   "cell_type": "markdown",
   "metadata": {},
   "source": [
    "# Problem Set 3 - GMM"
   ]
  },
  {
   "cell_type": "markdown",
   "metadata": {},
   "source": [
    "## 1. Matching the U.S. income distribution by GMM (5 points). In this problem set, you will use the comma-delimited data file hh inc synth.txt in the PS3/data folder, which contains the 121,085 observations (synthetic) on household U.S. income. Table 1 displays histogram counts and percentages moments listed in along with the midpoints of each bin. The first column in the data file gives the percent of the population in each income bin (the third column of Table 1). The second column in the data file has the midpoint of each income bin. So the midpoint of the first income bin of all household incomes less than 5,000 is 2,500."
   ]
  },
  {
   "cell_type": "markdown",
   "metadata": {},
   "source": [
    "(a) (0.5 point) Use the numpy.histogram() function to create the moments in Table 1 from the synthetic household income data in comma-delimited text file hh inc synth.txt by inputing the appropriate list of bin edges for the bins argument."
   ]
  },
  {
   "cell_type": "code",
   "execution_count": 192,
   "metadata": {},
   "outputs": [
    {
     "data": {
      "text/plain": [
       "(121085,)"
      ]
     },
     "execution_count": 192,
     "metadata": {},
     "output_type": "execute_result"
    }
   ],
   "source": [
    "income = np.genfromtxt('data/hh_inc_synth.txt', delimiter=',')\n",
    "income.shape"
   ]
  },
  {
   "cell_type": "markdown",
   "metadata": {},
   "source": [
    "Notes\n",
    "\n",
    "All but the last (righthand-most) bin is half-open. In other words, if bins is:\n",
    "\n",
    "[1, 2, 3, 4]\n",
    "then the first bin is [1, 2) (including 1, but excluding 2) and the second [2, 3). The last bin, however, is [3, 4], which includes 4."
   ]
  },
  {
   "cell_type": "code",
   "execution_count": 132,
   "metadata": {},
   "outputs": [],
   "source": [
    "#generate a list I can easily make into my bins list\n",
    "l = [0,5000]\n",
    "for x in range(0,39):\n",
    "    l.append(l[-1] + 5000)"
   ]
  },
  {
   "cell_type": "code",
   "execution_count": 133,
   "metadata": {},
   "outputs": [],
   "source": [
    "l = l + [250000, 351000]"
   ]
  },
  {
   "cell_type": "code",
   "execution_count": 152,
   "metadata": {},
   "outputs": [],
   "source": [
    "counts, bins = np.histogram(income, bins=l)"
   ]
  },
  {
   "cell_type": "markdown",
   "metadata": {},
   "source": [
    "(b)(1 points) Plot the histogram of the data hh inc synth.txt using the bins described in the first column of Table 1, which you used as an input to part (a), and the height being the percent of observations in that bin and not the count frequency (use the weights option rather than the density option in matplotlib.pyplot.hist). List the dollar amounts on the x- axis as thousands of dollars. That is, divide them by 1,000 to put them in units of thousands of dollars ($000s). Even though the top bin is listed as $250,000 and up in Table 1, the synthetic data are top-coded at $350,000, so set to last bin edge to $350,000. (It doesn’t look very good graphing it between 0 and ∞.) Because the 41st bar is 10 times bigger than the first 40 bars, divide it’s percentage by 10 just for plotting purposes. And because the 42nd bar is 20 times bigger than the first 40 bars, divide it’s percentage by 20 just for plotting purposes. You can do this by dividing the weights for observations in the last two bins by 10 and 20, respectively. In summary, your histogram should have 42 bars. The first 40 bars for the lowest income bins should be the same width. However, the last two bars should be different widths from each other and from the rest of the bars. It should look like Figure 1. [Hint: look at the matplotlib.pyplot.hist command option of bins and submit a list of bin edges for the bins option.]"
   ]
  },
  {
   "cell_type": "code",
   "execution_count": 135,
   "metadata": {},
   "outputs": [
    {
     "data": {
      "text/plain": [
       "Text(0.5, 0, 'Household income in thousands')"
      ]
     },
     "execution_count": 135,
     "metadata": {},
     "output_type": "execute_result"
    },
    {
     "data": {
      "image/png": "[encoded data removed]",
      "text/plain": [
       "<Figure size 432x288 with 1 Axes>"
      ]
     },
     "metadata": {
      "needs_background": "light"
     },
     "output_type": "display_data"
    }
   ],
   "source": [
    "bins[-2] = bins[-3] + 5000\n",
    "bins[-1] = bins[-2] + 5000\n",
    "bs, bs1, bs2 = plt.hist(bins[:-1], bins, weights=counts)\n",
    "plt.xticks(np.array([0, 50000, 100000, 150000, 200000, 250000, 350000]),\n",
    "           ('$0', '$50', '$100', '$150', '$200', '$250', '$350'))\n",
    "plt.xlabel(r'Household income in thousands')"
   ]
  },
  {
   "cell_type": "markdown",
   "metadata": {},
   "source": [
    "(c) (1 points) Using GMM, fit the lognormal LN (x; μ, σ) distribution defined in the MLE notebook to the distribution of household income data using the moments from the data file. Make sure to try various initial guesses. (HINT: μ0 = ln(avg.inc.) might be good.) For your weighting matrix W , use a 42 × 42 diagonal matrix in which the diagonal elements are the moments from the data file. This will put the most weight on the moments with the largest percent of the population. Report your estimated values for μˆ and σˆ, as well as the value of the minimized criterion function e(x|θˆ)T W e(x|θˆ). Plot the histogram from part (a) overlayed with a line representing the implied histogram from your estimated lognormal (LN) distribution. Each point on the line is the midpoint of the bin and the implied height of the bin. Do not forget to divide the values for your last two moments by 10 and 20, respectively, so that they match up with the histogram."
   ]
  },
  {
   "cell_type": "code",
   "execution_count": 183,
   "metadata": {},
   "outputs": [],
   "source": [
    "def model_moments_1c(mu, sigma, bin_bound_list):\n",
    "    bins = len(bin_bound_list) - 1\n",
    "    model_moments = np.zeros(bins)\n",
    "    for bin_ind in range(bins):\n",
    "        if bin_ind == 0:\n",
    "            model_moments[bin_ind] = \\\n",
    "                sts.lognorm.cdf(bin_bound_list[bin_ind], s=sigma,\n",
    "                                scale=mu)\n",
    "        elif bin_ind > 0 and bin_ind < bins - 1:\n",
    "            model_moments[bin_ind] = \\\n",
    "                (sts.lognorm.cdf(bin_bound_list[bin_ind], s=sigma,\n",
    "                                 scale=np.exp(mu)) -\n",
    "                 sts.lognorm.cdf(bin_bound_list[bin_ind - 1], s=sigma,\n",
    "                                 scale=np.exp(mu)))\n",
    "        elif bin_ind == bins - 1:\n",
    "            model_moments[bin_ind] = \\\n",
    "                (1 - sts.lognorm.cdf(bin_bound_list[bin_ind - 1],\n",
    "                                     s=sigma, scale=np.exp(mu)))\n",
    "\n",
    "    return model_moments\n"
   ]
  },
  {
   "cell_type": "code",
   "execution_count": 185,
   "metadata": {},
   "outputs": [],
   "source": [
    "counts, bins = np.histogram(income, bins=l)\n",
    "dmom = dstruct.data_moments(income)\n",
    "bins = [x/1000 for x in bins]\n",
    "model_mom = model_moments_1c(dmom[0], dmom[1], bins)"
   ]
  },
  {
   "cell_type": "code",
   "execution_count": 161,
   "metadata": {},
   "outputs": [
    {
     "data": {
      "text/plain": [
       "67269.598228936"
      ]
     },
     "execution_count": 161,
     "metadata": {},
     "output_type": "execute_result"
    }
   ],
   "source": [
    "dmom[0]"
   ]
  },
  {
   "cell_type": "code",
   "execution_count": 186,
   "metadata": {},
   "outputs": [
    {
     "data": {
      "text/plain": [
       "array([0., 0., 0., 0., 0., 0., 0., 0., 0., 0., 0., 0., 0., 0., 0., 0., 0.,\n",
       "       0., 0., 0., 0., 0., 0., 0., 0., 0., 0., 0., 0., 0., 0., 0., 0., 0.,\n",
       "       0., 0., 0., 0., 0., 0., 0., 1.])"
      ]
     },
     "execution_count": 186,
     "metadata": {},
     "output_type": "execute_result"
    }
   ],
   "source": [
    "model_mom"
   ]
  },
  {
   "cell_type": "code",
   "execution_count": 173,
   "metadata": {},
   "outputs": [],
   "source": [
    "W = np.zeros((42,42),int)\n",
    "np.fill_diagonal(W, model_mom)\n"
   ]
  },
  {
   "cell_type": "code",
   "execution_count": 179,
   "metadata": {},
   "outputs": [
    {
     "data": {
      "text/plain": [
       "0"
      ]
     },
     "execution_count": 179,
     "metadata": {},
     "output_type": "execute_result"
    }
   ],
   "source": [
    "W.sum()"
   ]
  },
  {
   "cell_type": "markdown",
   "metadata": {},
   "source": [
    "2. Estimating the Brock and Mirman (1972) model by GMM (5 points). You can observe time series data in an economy for the following variables: (ct, kt, wt, rt). Data on (ct, kt, wt, rt) can be loaded from the file MacroSeries.txt in the PS3/data folder. This file is a comma separated text file with no labels. The variables are ordered as (ct, kt, wt, rt). These data have 100 periods, which are quarterly (25 years). Suppose you think that the data are generated by a process similar to the Brock and Mirman (1972). A simplified set of character- izing equations of the Brock and Mirman model are the following. (ct)−1 − βE 􏰀rt+1(ct+1)−1􏰁 = 0 (1) ct +kt+1 −wt −rtkt =0 (2) wt − (1 − α)ezt (kt)α = 0 (3)\n",
    "\n",
    "(a) Estimate α, ρ, and μ by GMM using the unconditional moment conditions that E[εt] = 0 and E[βrt+1ct/ct+1 − 1] = 0. Assume β = 0.99. Use the identity matrix I(4) as your estimator of the optimal weighting matrix. Use the following four moment conditions to estimate the four parameters.\n",
    "E􏰈zt+1−ρzt−(1−ρ)μ􏰉 =0 (6) 􏰆􏰂 􏰃􏰇\n",
    "E zt+1 −ρzt −(1−ρ)μ zt =0 (7) 􏰆 zt+1 α−1 ct 􏰇\n",
    "Eβαe kt+1c −1 =0 (8) t+1\n",
    " 􏰆􏰄 zt+1 α−1 ct 􏰅 􏰇\n",
    "E βαe kt+1c −1 wt =0 (9)"
   ]
  },
  {
   "cell_type": "code",
   "execution_count": null,
   "metadata": {},
   "outputs": [],
   "source": []
  },
  {
   "cell_type": "code",
   "execution_count": 187,
   "metadata": {},
   "outputs": [],
   "source": [
    "macro = pd.read_csv('data/MacroSeries.txt')"
   ]
  },
  {
   "cell_type": "code",
   "execution_count": 188,
   "metadata": {},
   "outputs": [
    {
     "data": {
      "text/plain": [
       "Index(['1.067109409061767906e+07', '8.040697000000000000e+06',\n",
       "       '1.059437619404014759e+07', '9.541199796178368997e-01'],\n",
       "      dtype='object')"
      ]
     },
     "execution_count": 188,
     "metadata": {},
     "output_type": "execute_result"
    }
   ],
   "source": [
    "macro.columns"
   ]
  },
  {
   "cell_type": "code",
   "execution_count": 193,
   "metadata": {},
   "outputs": [],
   "source": [
    "macro = np.genfromtxt('data/MacroSeries.txt', delimiter=',')"
   ]
  },
  {
   "cell_type": "code",
   "execution_count": 205,
   "metadata": {},
   "outputs": [],
   "source": [
    "c = macro[:,0]\n",
    "k = macro[:,1]\n",
    "w = macro[:,2]\n",
    "r = macro[:,3]"
   ]
  },
  {
   "cell_type": "code",
   "execution_count": 206,
   "metadata": {},
   "outputs": [],
   "source": [
    "df = pd.DataFrame({'c':c,'k':k,'w':w,'r':r})"
   ]
  },
  {
   "cell_type": "code",
   "execution_count": 207,
   "metadata": {},
   "outputs": [
    {
     "data": {
      "text/html": [
       "<div>\n",
       "<style scoped>\n",
       "    .dataframe tbody tr th:only-of-type {\n",
       "        vertical-align: middle;\n",
       "    }\n",
       "\n",
       "    .dataframe tbody tr th {\n",
       "        vertical-align: top;\n",
       "    }\n",
       "\n",
       "    .dataframe thead th {\n",
       "        text-align: right;\n",
       "    }\n",
       "</style>\n",
       "<table border=\"1\" class=\"dataframe\">\n",
       "  <thead>\n",
       "    <tr style=\"text-align: right;\">\n",
       "      <th></th>\n",
       "      <th>c</th>\n",
       "      <th>k</th>\n",
       "      <th>w</th>\n",
       "      <th>r</th>\n",
       "    </tr>\n",
       "  </thead>\n",
       "  <tbody>\n",
       "    <tr>\n",
       "      <th>0</th>\n",
       "      <td>1.067109e+07</td>\n",
       "      <td>8.040697e+06</td>\n",
       "      <td>1.059438e+07</td>\n",
       "      <td>0.954120</td>\n",
       "    </tr>\n",
       "    <tr>\n",
       "      <th>1</th>\n",
       "      <td>1.169487e+07</td>\n",
       "      <td>7.595072e+06</td>\n",
       "      <td>1.161079e+07</td>\n",
       "      <td>1.107009</td>\n",
       "    </tr>\n",
       "    <tr>\n",
       "      <th>2</th>\n",
       "      <td>9.292394e+06</td>\n",
       "      <td>8.323735e+06</td>\n",
       "      <td>9.225588e+06</td>\n",
       "      <td>0.802596</td>\n",
       "    </tr>\n",
       "    <tr>\n",
       "      <th>3</th>\n",
       "      <td>7.913165e+06</td>\n",
       "      <td>6.613792e+06</td>\n",
       "      <td>7.856274e+06</td>\n",
       "      <td>0.860176</td>\n",
       "    </tr>\n",
       "    <tr>\n",
       "      <th>4</th>\n",
       "      <td>8.140994e+06</td>\n",
       "      <td>5.632136e+06</td>\n",
       "      <td>8.082466e+06</td>\n",
       "      <td>1.039183</td>\n",
       "    </tr>\n",
       "  </tbody>\n",
       "</table>\n",
       "</div>"
      ],
      "text/plain": [
       "              c             k             w         r\n",
       "0  1.067109e+07  8.040697e+06  1.059438e+07  0.954120\n",
       "1  1.169487e+07  7.595072e+06  1.161079e+07  1.107009\n",
       "2  9.292394e+06  8.323735e+06  9.225588e+06  0.802596\n",
       "3  7.913165e+06  6.613792e+06  7.856274e+06  0.860176\n",
       "4  8.140994e+06  5.632136e+06  8.082466e+06  1.039183"
      ]
     },
     "execution_count": 207,
     "metadata": {},
     "output_type": "execute_result"
    }
   ],
   "source": [
    "df.head()"
   ]
  },
  {
   "cell_type": "code",
   "execution_count": null,
   "metadata": {},
   "outputs": [],
   "source": []
  }
 ],
 "metadata": {
  "kernelspec": {
   "display_name": "Python 3",
   "language": "python",
   "name": "python3"
  },
  "language_info": {
   "codemirror_mode": {
    "name": "ipython",
    "version": 3
   },
   "file_extension": ".py",
   "mimetype": "text/x-python",
   "name": "python",
   "nbconvert_exporter": "python",
   "pygments_lexer": "ipython3",
   "version": "3.7.3"
  }
 },
 "nbformat": 4,
 "nbformat_minor": 2
}
