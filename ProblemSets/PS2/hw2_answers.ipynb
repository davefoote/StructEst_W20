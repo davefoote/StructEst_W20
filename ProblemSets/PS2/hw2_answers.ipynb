{
 "cells": [
  {
   "cell_type": "markdown",
   "metadata": {},
   "source": [
    "# David Foote - HW 2\n",
    "## Answers"
   ]
  },
  {
   "cell_type": "markdown",
   "metadata": {},
   "source": [
    "Import needed libraries:"
   ]
  },
  {
   "cell_type": "code",
   "execution_count": 15,
   "metadata": {},
   "outputs": [
    {
     "name": "stdout",
     "output_type": "stream",
     "text": [
      "The autoreload extension is already loaded. To reload it, use:\n",
      "  %reload_ext autoreload\n"
     ]
    }
   ],
   "source": [
    "import numpy as np\n",
    "import pandas as pd\n",
    "import scipy.stats as sts\n",
    "import matplotlib.pyplot as plt\n",
    "import requests\n",
    "import dfoote_struct_est_lib as dstruct\n",
    "%load_ext autoreload\n",
    "%autoreload 2\n",
    "%matplotlib inline"
   ]
  },
  {
   "cell_type": "markdown",
   "metadata": {},
   "source": [
    "More setting up:"
   ]
  },
  {
   "cell_type": "code",
   "execution_count": 16,
   "metadata": {},
   "outputs": [],
   "source": [
    "claims = np.loadtxt('clms.txt')"
   ]
  },
  {
   "cell_type": "markdown",
   "metadata": {},
   "source": [
    "## 1. Health claim amounts and the GB family of distributions (5)\n"
   ]
  },
  {
   "cell_type": "markdown",
   "metadata": {},
   "source": [
    "a) Calculate and report the mean, median, maximum, minimum, and standard deviation of monthly health expenditures for these data. Plot two histograms of the data in which the y-axis gives the percent of observations in the particular bin of health expenditures and the x-axis gives the value of monthly health expenditures. Use percentage histograms in which the height of each bar is the percent of observations in that bin (see instructions in Jupyter notebook PythonVisualize.ipynb in Section 1.2). In the first histogram, use 1,000 bins to plot the frequency of all the data. In the second histogram, use 100 bins to plot the frequency of only monthly health expenditures less-than-or-equal-to $800 (xi ≤ 800). Adjust the frequencies of this second histogram to account for the observations that you have not displayed (xi > 800). That is, the heights of the histogram bars in the second histogram should not sum to 1 because you are only displaying a fraction of the data. Comparing the two histograms, why might you prefer the second one?"
   ]
  },
  {
   "cell_type": "code",
   "execution_count": 17,
   "metadata": {},
   "outputs": [
    {
     "data": {
      "text/plain": [
       "numpy.ndarray"
      ]
     },
     "execution_count": 17,
     "metadata": {},
     "output_type": "execute_result"
    }
   ],
   "source": [
    "type(claims)"
   ]
  },
  {
   "cell_type": "code",
   "execution_count": 18,
   "metadata": {},
   "outputs": [
    {
     "name": "stdout",
     "output_type": "stream",
     "text": [
      "mean  :  720.2779753272437\n",
      "med  :  172.21\n",
      "max  :  227967.25\n",
      "min  :  0.01\n",
      "std  :  3972.663756393663\n"
     ]
    }
   ],
   "source": [
    "mnts = dstruct.summarize_column(claims)"
   ]
  },
  {
   "cell_type": "code",
   "execution_count": 21,
   "metadata": {},
   "outputs": [
    {
     "name": "stdout",
     "output_type": "stream",
     "text": [
      "0.0025487609345454286\n"
     ]
    },
    {
     "data": {
      "image/png": "[encoded data removed]",
      "text/plain": [
       "<Figure size 432x288 with 1 Axes>"
      ]
     },
     "metadata": {
      "needs_background": "light"
     },
     "output_type": "display_data"
    }
   ],
   "source": [
    "dstruct.histogram(claims, 1000, 'Claim Amounts: Professor Evans Data', 'Total points',\n",
    "                  'Percent of scores', [0, mnts['max']])"
   ]
  },
  {
   "cell_type": "code",
   "execution_count": 22,
   "metadata": {},
   "outputs": [],
   "source": [
    "sm_claims = claims[claims <= 800]"
   ]
  },
  {
   "cell_type": "code",
   "execution_count": 26,
   "metadata": {},
   "outputs": [
    {
     "data": {
      "text/plain": [
       "array([9.41708259e-05, 9.41708259e-05, 9.41708259e-05, ...,\n",
       "       9.41708259e-05, 9.41708259e-05, 9.41708259e-05])"
      ]
     },
     "execution_count": 26,
     "metadata": {},
     "output_type": "execute_result"
    }
   ],
   "source": []
  },
  {
   "cell_type": "code",
   "execution_count": 27,
   "metadata": {},
   "outputs": [
    {
     "name": "stdout",
     "output_type": "stream",
     "text": [
      "mean  :  199.3079312638581\n",
      "med  :  137.26\n",
      "max  :  799.61\n",
      "min  :  0.01\n",
      "std  :  182.83484556989498\n"
     ]
    }
   ],
   "source": [
    "sm_mnts = dstruct.summarize_column(sm_claims)"
   ]
  },
  {
   "cell_type": "code",
   "execution_count": 29,
   "metadata": {},
   "outputs": [
    {
     "name": "stdout",
     "output_type": "stream",
     "text": [
      "0.03842169695828191\n"
     ]
    },
    {
     "data": {
      "image/png": "[encoded data removed]",
      "text/plain": [
       "<Figure size 432x288 with 1 Axes>"
      ]
     },
     "metadata": {
      "needs_background": "light"
     },
     "output_type": "display_data"
    }
   ],
   "source": [
    "dstruct.histogram(sm_claims, 100, 'Claim Amounts: Professor Evans Data', 'Total points',\n",
    "                  'Percent of scores', [0, sm_mnts['max']], claims)"
   ]
  },
  {
   "cell_type": "markdown",
   "metadata": {},
   "source": [
    "*I would prefer to use the second distribution since it provides a better perspective on the shape of the majority of the data*"
   ]
  },
  {
   "cell_type": "markdown",
   "metadata": {},
   "source": [
    "b) (1 point) Using MLE, fit the gamma GA(x;α,β) distribution to the in-\n",
    "dividual observation data. Use β0 = V ar(x)/E(x) and α0 = E(x)/β0 as\n",
    "your initial guess.1 Report your estimated values for αˆ and βˆ, as well as ˆ\n",
    "the value of the maximized log likelihood function lnL(θ). Plot the sec- ond histogram from part (a) overlayed with a line representing the implied histogram from your estimated gamma (GA) distribution."
   ]
  },
  {
   "cell_type": "code",
   "execution_count": 32,
   "metadata": {},
   "outputs": [
    {
     "name": "stdout",
     "output_type": "stream",
     "text": [
      "SHAPE:  1.188314028535338\n",
      "RATE:  167.7232839786601\n"
     ]
    },
    {
     "data": {
      "text/plain": [
       "(1.188314028535338, 167.7232839786601)"
      ]
     },
     "execution_count": 32,
     "metadata": {},
     "output_type": "execute_result"
    }
   ],
   "source": [
    "gamma_init_params = dstruct.gamma_firstguess(sm_mnts)\n",
    "gamma_init_params"
   ]
  },
  {
   "cell_type": "code",
   "execution_count": 34,
   "metadata": {},
   "outputs": [
    {
     "name": "stdout",
     "output_type": "stream",
     "text": [
      "0.03842169695828191\n"
     ]
    },
    {
     "data": {
      "image/png": "[encoded data removed]",
      "text/plain": [
       "<Figure size 432x288 with 1 Axes>"
      ]
     },
     "metadata": {
      "needs_background": "light"
     },
     "output_type": "display_data"
    }
   ],
   "source": [
    "dstruct.histogram(sm_claims, 100, 'Claim Amounts: Professor Evans Data', 'Total points',\n",
    "                  'Percent of scores', [0, sm_mnts['max']], claims)\n",
    "x = np.linspace(0,800, 9020)\n",
    "h = plt.plot(x, dstruct.make_gamma_pdf(x, gamma_init_params[0], gamma_init_params[1]))"
   ]
  },
  {
   "cell_type": "markdown",
   "metadata": {},
   "source": [
    "**Above we see my initial guess displayed over the data from our smaller claims array**  \n",
    "*Below we will use MLE to find a better fit for this line*"
   ]
  },
  {
   "cell_type": "code",
   "execution_count": 36,
   "metadata": {},
   "outputs": [
    {
     "data": {
      "text/plain": [
       "(1.188314028535338, 167.7232839786601)"
      ]
     },
     "execution_count": 36,
     "metadata": {},
     "output_type": "execute_result"
    }
   ],
   "source": [
    "gamma_init_params"
   ]
  },
  {
   "cell_type": "code",
   "execution_count": 39,
   "metadata": {},
   "outputs": [],
   "source": [
    "alpha_mle, beta_mle = dstruct.mle(gamma_init_params, dstruct.gamma_crit, sm_claims)"
   ]
  },
  {
   "cell_type": "code",
   "execution_count": 41,
   "metadata": {},
   "outputs": [
    {
     "name": "stdout",
     "output_type": "stream",
     "text": [
      "0.03842169695828191\n"
     ]
    },
    {
     "data": {
      "image/png": "[encoded data removed]",
      "text/plain": [
       "<Figure size 432x288 with 1 Axes>"
      ]
     },
     "metadata": {
      "needs_background": "light"
     },
     "output_type": "display_data"
    }
   ],
   "source": [
    "dstruct.histogram(sm_claims, 100, 'Claim Amounts: Professor Evans Data', 'Total points',\n",
    "                  'Percent of scores', [0, sm_mnts['max']], claims)\n",
    "x = np.linspace(0,800, 9020)\n",
    "h = plt.plot(x, dstruct.make_gamma_pdf(x, alpha_mle, beta_mle))"
   ]
  },
  {
   "cell_type": "code",
   "execution_count": 43,
   "metadata": {},
   "outputs": [
    {
     "name": "stdout",
     "output_type": "stream",
     "text": [
      "maximized log likelihood function lnL(θ)= -56732.598679409486\n"
     ]
    }
   ],
   "source": [
    "print('maximized log likelihood function lnL(θ)=',\n",
    "      dstruct.log_lik(sm_claims, (alpha_mle, beta_mle), dstruct.make_gamma_pdf))"
   ]
  },
  {
   "cell_type": "markdown",
   "metadata": {},
   "source": [
    "*and behold -  a better fitting gamma distribution (technically the best fitting gamma distribution)*"
   ]
  },
  {
   "cell_type": "markdown",
   "metadata": {},
   "source": [
    "c) (1 point) Using MLE, fit the generalized gamma GG(x; α, β, m) distribu- tion to the individual observation data. Use your estimates for α and β from part(b), as well as m = 1, as your initial guess. Report your estimated values for αˆ, βˆ, and mˆ , as well as the value of the maximized log likelihood function ln L. Plot the second histogram from part (a) overlayed with a line representing the implied histogram from your estimated generalized gamma (GG) distribution."
   ]
  },
  {
   "cell_type": "code",
   "execution_count": 44,
   "metadata": {},
   "outputs": [
    {
     "name": "stdout",
     "output_type": "stream",
     "text": [
      "SHAPE:  1.188314028535338\n",
      "RATE:  167.7232839786601\n"
     ]
    }
   ],
   "source": [
    "gen_gamma_guess = dstruct.gengamma_firstguess(sm_mnts, sm_claims)"
   ]
  },
  {
   "cell_type": "code",
   "execution_count": 45,
   "metadata": {},
   "outputs": [
    {
     "name": "stdout",
     "output_type": "stream",
     "text": [
      "ALPHA suggested by MLE:  1.2376077641695502\n",
      "BETA suggested by MLE:  156.1847897629754\n",
      "M suggested by MLE:  0.949817750089162\n"
     ]
    }
   ],
   "source": [
    "alpha, beta, m = dstruct.mle3(gen_gamma_guess, dstruct.gengamma_crit, sm_claims)\n",
    "print('ALPHA suggested by MLE: ', alpha)\n",
    "print('BETA suggested by MLE: ', beta)\n",
    "print('M suggested by MLE: ', m)"
   ]
  },
  {
   "cell_type": "code",
   "execution_count": 46,
   "metadata": {},
   "outputs": [
    {
     "name": "stdout",
     "output_type": "stream",
     "text": [
      "maximized log likelihood function lnL(θ)= -56731.831664158664\n"
     ]
    }
   ],
   "source": [
    "print('maximized log likelihood function lnL(θ)=',\n",
    "      dstruct.log_lik(sm_claims, (alpha, beta, m), dstruct.make_gengamma_pdf))"
   ]
  },
  {
   "cell_type": "markdown",
   "metadata": {},
   "source": [
    "*This is a better log likelihood*"
   ]
  },
  {
   "cell_type": "code",
   "execution_count": 49,
   "metadata": {},
   "outputs": [
    {
     "name": "stdout",
     "output_type": "stream",
     "text": [
      "0.03842169695828191\n"
     ]
    },
    {
     "data": {
      "image/png": "[encoded data removed]",
      "text/plain": [
       "<Figure size 432x288 with 1 Axes>"
      ]
     },
     "metadata": {
      "needs_background": "light"
     },
     "output_type": "display_data"
    }
   ],
   "source": [
    "dstruct.histogram(sm_claims, 100, 'Claim Amounts: Professor Evans Data', 'Total points',\n",
    "                  'Percent of scores', [0, sm_mnts['max']], claims)\n",
    "x = np.linspace(0,800, 9020)\n",
    "h = plt.plot(x, dstruct.make_gengamma_pdf(x, alpha, beta, m))"
   ]
  },
  {
   "cell_type": "markdown",
   "metadata": {},
   "source": [
    "(d) (1 point) Using MLE, fit the generalized beta 2 GB2(x; a, b, p, q) distribu- tion to the individual observation data. Use your estimates for α, β, and m from part (c), as well as q = 10, 000, as your initial guess. Report your estimated values for aˆ, ˆb, pˆ, and qˆ, as well as the value of the maximized log likelihood function ln L. Plot the second histogram from part(a) over- layed with a line representing the implied histogram from your estimated generalized beta 2 (GB2) distribution."
   ]
  },
  {
   "cell_type": "code",
   "execution_count": 51,
   "metadata": {},
   "outputs": [],
   "source": [
    "first_guess = (alpha, beta, m, 10000)\n",
    "first_guess = dstruct.gb2_firstguess(first_guess)"
   ]
  },
  {
   "cell_type": "code",
   "execution_count": 52,
   "metadata": {},
   "outputs": [
    {
     "data": {
      "text/plain": [
       "(0.949817750089162, 16268.002355600205, 1.3029949840939197, 10000)"
      ]
     },
     "execution_count": 52,
     "metadata": {},
     "output_type": "execute_result"
    }
   ],
   "source": [
    "first_guess"
   ]
  },
  {
   "cell_type": "code",
   "execution_count": null,
   "metadata": {},
   "outputs": [],
   "source": []
  }
 ],
 "metadata": {
  "kernelspec": {
   "display_name": "Python 3",
   "language": "python",
   "name": "python3"
  },
  "language_info": {
   "codemirror_mode": {
    "name": "ipython",
    "version": 3
   },
   "file_extension": ".py",
   "mimetype": "text/x-python",
   "name": "python",
   "nbconvert_exporter": "python",
   "pygments_lexer": "ipython3",
   "version": "3.7.3"
  }
 },
 "nbformat": 4,
 "nbformat_minor": 2
}
